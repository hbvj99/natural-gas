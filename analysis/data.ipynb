{
 "cells": [
  {
   "cell_type": "code",
   "execution_count": null,
   "metadata": {},
   "outputs": [],
   "source": [
    "# Import useful libraries\n",
    "# from dateutil.parser import parse \n",
    "import matplotlib as mpl\n",
    "import matplotlib.pyplot as plt\n",
    "import numpy as np\n",
    "import pandas as pd\n",
    "\n",
    "from pandas.plotting import register_matplotlib_converters # Register converters\n",
    "register_matplotlib_converters()\n",
    "\n",
    "plt.rcParams.update({'figure.figsize': (10, 7), 'figure.dpi': 120}) # Set fig size"
   ]
  },
  {
   "cell_type": "code",
   "execution_count": null,
   "metadata": {},
   "outputs": [],
   "source": [
    "# Import as Dataframe\n",
    "df = pd.read_csv('../data/price_daily.csv', parse_dates=['Date'], index_col='Date')\n",
    "df.head()\n",
    "\n",
    "# Check if Dataframe is empty\n",
    "if df.empty == True:\n",
    "    print('DataFrame is empty')\n",
    "else:\n",
    "    print('DataFrame is not empty')"
   ]
  },
  {
   "cell_type": "code",
   "execution_count": null,
   "metadata": {},
   "outputs": [],
   "source": [
    "# Time series data source: fpp pacakge in R.\n",
    "# Visualize Month and yearly data\n",
    "\n",
    "# Draw Plot\n",
    "def plot_df(df, x, y, title=\"\", xlabel='Date', ylabel='Price', dpi=100):\n",
    "    plt.figure(figsize=(16,5), dpi=dpi)\n",
    "    plt.plot(x, y, color='tab:red')\n",
    "    plt.gca().set(title=title, xlabel=xlabel, ylabel=ylabel)\n",
    "    plt.show()\n",
    "\n",
    "plot_df(df, x=df.index, y=df.Price, title='Yearly EIA Natural Gas Price')\n",
    "\n",
    "df_mon = pd.read_csv('../data/price_monthly.csv', parse_dates=['Month'], index_col='Month')\n",
    "\n",
    "print(df_mon.empty) # Check empty dataframe \n",
    "\n",
    "def plot_df_m(df_mon, x, y, title=\"\", xlabel='Month', ylabel='Price', dpi=100):\n",
    "    plt.figure(figsize=(16,5), dpi=dpi)\n",
    "    plt.plot(x, y, color='tab:blue')\n",
    "    plt.gca().set(title=title, xlabel=xlabel, ylabel=ylabel)\n",
    "    plt.show()\n",
    "\n",
    "plot_df_m(df_mon, x=df_mon.index, y=df_mon.Price, title='Monthly EIA Natural Gas Price')"
   ]
  },
  {
   "cell_type": "code",
   "execution_count": null,
   "metadata": {},
   "outputs": [],
   "source": [
    "# Seasonal Plot of Natural Gas analysis - Year, Month\n",
    "\n",
    "# Import Data\n",
    "df.reset_index(inplace=True)\n",
    "\n",
    "# Prepare data\n",
    "df['year'] = [d.year for d in df.Date]\n",
    "df['month'] = [d.strftime('%b') for d in df.Date]\n",
    "years = df['year'].unique()\n",
    "\n",
    "# Prep Colors\n",
    "np.random.seed(100)\n",
    "mycolors = np.random.choice(list(mpl.colors.XKCD_COLORS.keys()), len(years), replace=False)\n",
    "\n",
    "# Draw Plot\n",
    "plt.figure(figsize=(16,12), dpi= 80)\n",
    "for i, y in enumerate(years):\n",
    "    if i > 0:        \n",
    "        plt.plot('month', 'Price', data=df.loc[df.year==y, :], color=mycolors[i], label=y)\n",
    "        plt.text(df.loc[df.year==y, :].shape[0]-.9, df.loc[df.year==y, 'Price'][-1:].values[0], y, fontsize=12, color=mycolors[i])\n",
    "\n",
    "# Decoration\n",
    "plt.gca().set(xlim=(-0.3, 11), ylim=(2, 30), ylabel='$Price$', xlabel='$Month$')\n",
    "plt.yticks(fontsize=12, alpha=.7)\n",
    "plt.title(\"Seasonal Plot of Drug Sales Time Series\", fontsize=20)\n",
    "plt.show()"
   ]
  },
  {
   "cell_type": "code",
   "execution_count": null,
   "metadata": {},
   "outputs": [],
   "source": [
    "import seaborn as sns\n",
    "\n",
    "# Find Trend in Yearly, Monthly data\n",
    "df.reset_index(inplace=True)\n",
    "\n",
    "# Prepare data\n",
    "df['year'] = [d.year for d in df.Date]\n",
    "df['month'] = [d.strftime('%b') for d in df.Date]\n",
    "years = df['year'].unique()\n",
    "\n",
    "# Draw Plot\n",
    "fig, axes = plt.subplots(1, 2, figsize=(20,7), dpi= 80)\n",
    "sns.boxplot(x='year', y='Price', data=df, ax=axes[0])\n",
    "sns.boxplot(x='month', y='Price', data=df.loc[~df.year.isin([1991, 2008]), :])\n",
    "\n",
    "# Set Title\n",
    "axes[0].set_title('Year-wise Box Plot\\n(The Trend)', fontsize=18); \n",
    "axes[1].set_title('Month-wise Box Plot\\n(The Seasonality)', fontsize=18)\n",
    "plt.show()"
   ]
  },
  {
   "cell_type": "code",
   "execution_count": null,
   "metadata": {},
   "outputs": [],
   "source": [
    "# Decompose data\n",
    "# Trend, seasonal and residual components for Monthly data"
   ]
  },
  {
   "cell_type": "code",
   "execution_count": null,
   "metadata": {},
   "outputs": [],
   "source": [
    "from statsmodels.tsa.seasonal import seasonal_decompose\n",
    "from dateutil.parser import parse\n",
    "\n",
    "# Multiplicative Decomposition \n",
    "result_mul = seasonal_decompose(df_mon['Price'], model='multiplicative', extrapolate_trend='freq')\n",
    "\n",
    "# Additive Decomposition\n",
    "result_add = seasonal_decompose(df_mon['Price'], model='additive', extrapolate_trend='freq')\n",
    "\n",
    "# Plot\n",
    "plt.rcParams.update({'figure.figsize': (12,12)})\n",
    "result_mul.plot().suptitle('Multiplicative Decompose', fontsize=10)\n",
    "result_add.plot().suptitle('Additive Decompose', fontsize=10)\n",
    "plt.show()\n",
    "\n",
    "df_reconstructed = pd.concat([result_mul.seasonal, result_mul.trend, result_mul.resid, result_mul.observed], axis=1)\n",
    "df_reconstructed.columns = ['seas', 'trend', 'resid', 'actual_values']\n",
    "df_reconstructed.head()"
   ]
  },
  {
   "cell_type": "code",
   "execution_count": null,
   "metadata": {},
   "outputs": [],
   "source": [
    "# Test stationary series with Augmented Dickey Fuller test (ADH Test)\n",
    "\n",
    "from pandas import read_csv\n",
    "from statsmodels.tsa.stattools import adfuller\n",
    "series = read_csv('../data/price_monthly.csv', header=0, index_col=0, squeeze=True)\n",
    "X = series.values\n",
    "result = adfuller(X)\n",
    "print('ADF Statistic: %f' % result[0])\n",
    "print('p-value: %f' % result[1])\n",
    "print('Critical Values:')\n",
    "for key, value in result[4].items():\n",
    "\tprint('\\t%s: %.3f' % (key, value))"
   ]
  },
  {
   "cell_type": "code",
   "execution_count": null,
   "metadata": {},
   "outputs": [],
   "source": [
    "# Using scipy: Subtract the line of best fit\n",
    "\n",
    "from scipy import signal\n",
    "detrended = signal.detrend(df_mon.Price.values)\n",
    "plt.plot(detrended)\n",
    "plt.title('Gas Sales detrended by subtracting the least squares fit', fontsize=16)"
   ]
  },
  {
   "cell_type": "code",
   "execution_count": null,
   "metadata": {},
   "outputs": [],
   "source": [
    "from statsmodels.tsa.seasonal import seasonal_decompose\n",
    "result_mul = seasonal_decompose(df_mon['Price'], model='multiplicative', extrapolate_trend='freq')\n",
    "detrended = df_mon.Price.values - result_mul.trend\n",
    "plt.plot(detrended)\n",
    "plt.title('Gas Sales detrended by subtracting the trend component', fontsize=16)"
   ]
  },
  {
   "cell_type": "code",
   "execution_count": null,
   "metadata": {},
   "outputs": [],
   "source": [
    "# Deseasonalize a time series - Subtracting the Trend Component\n",
    "\n",
    "# Time Series Decomposition\n",
    "result_mul = seasonal_decompose(df_mon['Price'], model='multiplicative', extrapolate_trend='freq')\n",
    "\n",
    "# Deseasonalize\n",
    "deseasonalized = df_mon.Price.values / result_mul.seasonal\n",
    "\n",
    "# Plot\n",
    "plt.plot(deseasonalized)\n",
    "plt.title('Gas Sales Deseasonalized', fontsize=16)\n",
    "plt.plot()"
   ]
  },
  {
   "cell_type": "code",
   "execution_count": null,
   "metadata": {},
   "outputs": [],
   "source": [
    "# Test seasonality of a time series\n",
    "from pandas.plotting import autocorrelation_plot\n",
    "\n",
    "# Draw Plot\n",
    "plt.rcParams.update({'figure.figsize':(9,5), 'figure.dpi':120})\n",
    "autocorrelation_plot(df_mon.Price.tolist())"
   ]
  },
  {
   "cell_type": "code",
   "execution_count": null,
   "metadata": {},
   "outputs": [],
   "source": [
    "# Check autocorrelation and partial autocorrelation\n",
    "from statsmodels.tsa.stattools import acf, pacf\n",
    "from statsmodels.graphics.tsaplots import plot_acf, plot_pacf\n",
    "\n",
    "# Calculate ACF and PACF upto 50 lags\n",
    "# acf_50 = acf(df.value, nlags=50)\n",
    "# pacf_50 = pacf(df.value, nlags=50)\n",
    "\n",
    "# Draw Plot\n",
    "# For Yearly autocorrelation, detrend not available\n",
    "fig, axes = plt.subplots(1,2,figsize=(16,3), dpi= 100)\n",
    "plot_acf(df.Price.tolist(), lags=50, ax=axes[0])\n",
    "plot_pacf(df.Price.tolist(), lags=50, ax=axes[1])"
   ]
  },
  {
   "cell_type": "code",
   "execution_count": null,
   "metadata": {},
   "outputs": [],
   "source": [
    "# For monthly\n",
    "fig, axes = plt.subplots(1,2,figsize=(16,3), dpi= 100)\n",
    "plot_acf(df_mon.Price.tolist(), lags=50, ax=axes[0])\n",
    "plot_pacf(df_mon.Price.tolist(), lags=50, ax=axes[1])"
   ]
  },
  {
   "cell_type": "code",
   "execution_count": null,
   "metadata": {},
   "outputs": [],
   "source": [
    "# Scatter plot check autocorrelation\n",
    "# Validate between deseasonalize (monthly) and seasonalize (yearly) time data\n",
    "\n",
    "from pandas.plotting import lag_plot\n",
    "plt.rcParams.update({'ytick.left' : False, 'axes.titlepad':10})\n",
    "\n",
    "# Plot\n",
    "fig, axes = plt.subplots(1, 4, figsize=(10,3), sharex=True, sharey=True, dpi=100)\n",
    "for i, ax in enumerate(axes.flatten()[:4]):\n",
    "    lag_plot(df.Price, lag=i+1, ax=ax, c='firebrick')\n",
    "    ax.set_title('Lag ' + str(i+1))\n",
    "\n",
    "fig.suptitle('Lag Plots of Yearly price \\n(Points get wide and scattered with increasing lag -> lesser correlation)\\n', y=1.15)    \n",
    "\n",
    "fig, axes = plt.subplots(1, 4, figsize=(10,3), sharex=True, sharey=True, dpi=100)\n",
    "for i, ax in enumerate(axes.flatten()[:4]):\n",
    "    lag_plot(df_mon.Price, lag=i+1, ax=ax, c='firebrick')\n",
    "    ax.set_title('Lag ' + str(i+1))\n",
    "\n",
    "fig.suptitle('Lag Plots of Monthly price', y=1.05)    \n",
    "plt.show()"
   ]
  }
 ],
 "metadata": {
  "kernelspec": {
   "display_name": "Python 3",
   "language": "python",
   "name": "python3"
  },
  "language_info": {
   "codemirror_mode": {
    "name": "ipython",
    "version": 3
   },
   "file_extension": ".py",
   "mimetype": "text/x-python",
   "name": "python",
   "nbconvert_exporter": "python",
   "pygments_lexer": "ipython3",
   "version": "3.7.3"
  }
 },
 "nbformat": 4,
 "nbformat_minor": 4
}
